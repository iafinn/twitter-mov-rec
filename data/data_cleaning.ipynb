{
 "cells": [
  {
   "cell_type": "markdown",
   "metadata": {},
   "source": [
    "## Data cleaning"
   ]
  },
  {
   "cell_type": "markdown",
   "metadata": {},
   "source": [
    "The main goals for cleaning are:\n",
    "- remove duplicate movies\n",
    "- make titles unique by including the year and adding last name of director when necessary\n",
    "- extract genres to csv for web app\n",
    "- extract unique titles to csv for web app"
   ]
  },
  {
   "cell_type": "code",
   "execution_count": 1,
   "metadata": {},
   "outputs": [],
   "source": [
    "import pandas as pd\n",
    "from imdb import IMDb\n",
    "import sys\n",
    "import re\n",
    "import csv\n",
    "from collections import defaultdict "
   ]
  },
  {
   "cell_type": "markdown",
   "metadata": {},
   "source": [
    "First read in the movies file with utf-8 encoding (for special characters in titles)\n"
   ]
  },
  {
   "cell_type": "code",
   "execution_count": 2,
   "metadata": {},
   "outputs": [],
   "source": [
    "movies= pd.read_csv(\"movies_original.dat\",delimiter=\"::\",encoding='utf8', header=None, engine='python')"
   ]
  },
  {
   "cell_type": "markdown",
   "metadata": {},
   "source": [
    "Find all the genres in the dataset and drop the adult and nan categories. Save to a csv for the html select menu in the web app."
   ]
  },
  {
   "cell_type": "code",
   "execution_count": 3,
   "metadata": {},
   "outputs": [],
   "source": [
    "genres = set([])\n",
    "for line in set(movies[2]):\n",
    "   for g in str(line).split(\"|\"):\n",
    "    genres.add(g)\n",
    "genre_list = list(genres)\n",
    "genre_list.sort()\n",
    "genre_list.remove('Adult')\n",
    "genre_list.remove('nan')\n",
    "genre_df = pd.DataFrame(genre_list)\n",
    "genre_df.to_csv('genres.csv', index=False, header=False)"
   ]
  },
  {
   "cell_type": "markdown",
   "metadata": {},
   "source": [
    "Find movies that have the same title and year. This is confusing because users won't be able to differentiate movies if only the title and year are given. For example, two movies called Chaos came out in 2005, so a user would see \"Chaos (2005)\" for both."
   ]
  },
  {
   "cell_type": "code",
   "execution_count": 4,
   "metadata": {},
   "outputs": [],
   "source": [
    "movies_grouped = movies.groupby(1).count().sort_values(by=0, ascending=False)[[0]]\n",
    "movies_grouped = movies_grouped.reset_index()\n",
    "movies_grouped.columns = [\"title\",\"counts\"]\n",
    "duplicate_set = set(movies_grouped[movies_grouped[\"counts\"]>1][\"title\"])"
   ]
  },
  {
   "cell_type": "markdown",
   "metadata": {},
   "source": [
    "Go through titles with same name and year, and query imdb api to get the first director, then add last name of director to titles to differentiate them for the user."
   ]
  },
  {
   "cell_type": "code",
   "execution_count": 5,
   "metadata": {
    "scrolled": true
   },
   "outputs": [
    {
     "name": "stdout",
     "output_type": "stream",
     "text": [
      "ERROR:  Big Eyes (2014)4317898 28877\n"
     ]
    }
   ],
   "source": [
    "duplicate_dict = defaultdict(list) \n",
    "error_dict = defaultdict(list)\n",
    "imdb_object = IMDb()\n",
    "for idx, row in movies.iterrows():\n",
    "    if (row[1] in duplicate_set):\n",
    "        the_movie = imdb_object.get_movie(row[0])\n",
    "        try:\n",
    "            \n",
    "            director = the_movie['directors'][0]['name'].split(\" \")[-1] #grab first director last name\n",
    "            movies.iat[idx,1] = row[1] + \" \" + director\n",
    "            duplicate_dict[row[1] + \" \" + director].append(row[0])\n",
    "            #print(row[1] + \" \" + director)\n",
    "        except:\n",
    "            error_dict[row[1]].append(row[0])\n",
    "            print(\"ERROR: \" + \" \" + str(row[1]) + str(row[0]) + \" \" +  str(idx))      "
   ]
  },
  {
   "cell_type": "markdown",
   "metadata": {},
   "source": [
    "Only 1 missing director error on the film big eyes -- looking at the IMDB page it is a documentary written by Keane (no director listed)"
   ]
  },
  {
   "cell_type": "code",
   "execution_count": 6,
   "metadata": {},
   "outputs": [],
   "source": [
    "movies.iat[28877,1] = movies.iloc[28877][1]+\" Keane\""
   ]
  },
  {
   "cell_type": "markdown",
   "metadata": {},
   "source": [
    "Here I assume entries in the duplicate dict with more than 1 entry are true duplicates since they have: same year, title, director. Those with 1 entry in the dict have been differentiated."
   ]
  },
  {
   "cell_type": "code",
   "execution_count": 7,
   "metadata": {},
   "outputs": [],
   "source": [
    "id_dict = {} #id_dict shows which ids need to be changed, old ids to new ids\n",
    "for key in duplicate_dict:\n",
    "    curr_values = duplicate_dict[key]\n",
    "    if len(curr_values)>1:\n",
    "        #several movies have duplicates on imdb. I'll grab the first id that's listed and use that for all entries\n",
    "        id_dict[curr_values[1]] = curr_values[0] \n",
    "        \n",
    "    "
   ]
  },
  {
   "cell_type": "markdown",
   "metadata": {},
   "source": [
    "Now I delete duplicate rows"
   ]
  },
  {
   "cell_type": "code",
   "execution_count": 8,
   "metadata": {},
   "outputs": [],
   "source": [
    "for key in id_dict:\n",
    "    movies = movies[movies[0]!=key]"
   ]
  },
  {
   "cell_type": "markdown",
   "metadata": {},
   "source": [
    "Now I read in ratings file"
   ]
  },
  {
   "cell_type": "code",
   "execution_count": 9,
   "metadata": {},
   "outputs": [],
   "source": [
    "ratings = pd.read_csv(\"ratings_original.dat\",delimiter=\"::\",header=None,engine='python')\n",
    "ratings.columns = [\"rater_id\",\"movie_id\",\"rating\", \"time\"]\n",
    "ratings = ratings[[\"rater_id\",\"movie_id\",\"rating\"]]"
   ]
  },
  {
   "cell_type": "markdown",
   "metadata": {},
   "source": [
    "Use the previous dictionary to update duplicate imdb ids in ratings to match the movies dataframe."
   ]
  },
  {
   "cell_type": "code",
   "execution_count": 10,
   "metadata": {},
   "outputs": [],
   "source": [
    "for idx, row in ratings.iterrows():\n",
    "    if row[1] in id_dict:\n",
    "        ratings.iat[idx,1] = id_dict[row[1]]"
   ]
  },
  {
   "cell_type": "markdown",
   "metadata": {},
   "source": [
    "Calculate sum and counts of ratings for each movie to get mean rating. Use a single for loop so it's more efficient (than looping for each movie)."
   ]
  },
  {
   "cell_type": "code",
   "execution_count": 11,
   "metadata": {},
   "outputs": [],
   "source": [
    "sum_dict = defaultdict(int)\n",
    "counts_dict = defaultdict(int)\n",
    "for idx, row in ratings.iterrows():\n",
    "    sum_dict[row[1]] += row[2]\n",
    "    counts_dict[row[1]] += 1  "
   ]
  },
  {
   "cell_type": "markdown",
   "metadata": {},
   "source": [
    "Get mean ratings (sum/counts)"
   ]
  },
  {
   "cell_type": "code",
   "execution_count": 12,
   "metadata": {},
   "outputs": [],
   "source": [
    "avg_dict = defaultdict(list)\n",
    "for key in sum_dict:\n",
    "    avg = float(sum_dict[key])/float(counts_dict[key])\n",
    "    avg_dict[\"id\"].append(key)\n",
    "    avg_dict[\"avg_rating\"].append(round(avg,2))\n",
    "    avg_dict[\"num_ratings\"].append(counts_dict[key])\n",
    "    "
   ]
  },
  {
   "cell_type": "markdown",
   "metadata": {},
   "source": [
    "Make df of ratings and number of raters for each movie"
   ]
  },
  {
   "cell_type": "code",
   "execution_count": 13,
   "metadata": {},
   "outputs": [],
   "source": [
    "ratings_df = pd.DataFrame(avg_dict)"
   ]
  },
  {
   "cell_type": "markdown",
   "metadata": {},
   "source": [
    "Inner join on the movies and ratings dfs"
   ]
  },
  {
   "cell_type": "code",
   "execution_count": 14,
   "metadata": {},
   "outputs": [],
   "source": [
    "movies.columns = [\"id\", \"title\", \"genres\"]\n",
    "mov_full_df = pd.merge(ratings_df, movies, how='inner', on=\"id\" )"
   ]
  },
  {
   "cell_type": "markdown",
   "metadata": {},
   "source": [
    "Add a year column by parsing each movie title. Also, drop NAs"
   ]
  },
  {
   "cell_type": "code",
   "execution_count": 15,
   "metadata": {},
   "outputs": [],
   "source": [
    "year_list = []\n",
    "for idx, row in mov_full_df.iterrows():\n",
    "    st = str(row['title'])\n",
    "    year = int(st[st.find(\"(\")+1:st.rfind(\")\")])\n",
    "    year_list.append(year)\n",
    "mov_full_df['year'] = year_list\n",
    "mov_full_df = mov_full_df.dropna()"
   ]
  },
  {
   "cell_type": "markdown",
   "metadata": {},
   "source": [
    "Sort by year, then save movies and ratings to csv"
   ]
  },
  {
   "cell_type": "code",
   "execution_count": 16,
   "metadata": {},
   "outputs": [],
   "source": [
    "mov_full_df = mov_full_df.sort_values(by=\"year\", ascending=False)\n",
    "\n",
    "mov_full_df.to_csv(\"movies_clean.csv\", index=False, quoting=csv.QUOTE_NONNUMERIC)\n",
    "ratings.to_csv(\"ratings_clean.csv\", index=False, quoting=csv.QUOTE_NONNUMERIC)"
   ]
  },
  {
   "cell_type": "markdown",
   "metadata": {},
   "source": [
    "Save movie titles for javascript autocomplete function in the web app"
   ]
  },
  {
   "cell_type": "code",
   "execution_count": 17,
   "metadata": {},
   "outputs": [],
   "source": [
    "mov_full_df[[\"title\"]].to_csv(\"movie_titles.csv\", index=False, header=False)"
   ]
  }
 ],
 "metadata": {
  "kernelspec": {
   "display_name": "Python 3",
   "language": "python",
   "name": "python3"
  },
  "language_info": {
   "codemirror_mode": {
    "name": "ipython",
    "version": 3
   },
   "file_extension": ".py",
   "mimetype": "text/x-python",
   "name": "python",
   "nbconvert_exporter": "python",
   "pygments_lexer": "ipython3",
   "version": "3.7.0"
  }
 },
 "nbformat": 4,
 "nbformat_minor": 2
}
